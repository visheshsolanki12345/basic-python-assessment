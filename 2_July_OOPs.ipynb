{
 "cells": [
  {
   "cell_type": "code",
   "execution_count": 1,
   "metadata": {},
   "outputs": [],
   "source": [
    "\"\"\"\n",
    "Q 1. Explain what inheritance is in object-oriented programming and why it is used.\n",
    "Ans. Inheritance is used to establish a hierarchical relationship between classes, where the derived class inherits and extends \n",
    "    the functionality of the base class. It promotes code reusability and modularity, \n",
    "    Inheritance enables you to reuse code from an existing class. By defining a base class with common attributes and behaviors, you can create derived classes that inherit those features. This avoids duplicating code and promotes a more efficient development process.\n",
    "\"\"\""
   ]
  },
  {
   "cell_type": "code",
   "execution_count": null,
   "metadata": {},
   "outputs": [],
   "source": [
    "\"\"\"\n",
    "Q 2. Discuss the concept of single inheritance and multiple inheritance, highlighting their\n",
    "    differences and advantages.\n",
    "Ans. \n",
    "    Differences between Single Inheritance and Multiple Inheritance:\n",
    "        1. Single inheritance creates a linear hierarchy of classes, whereas multiple inheritance leads to a more complex, potentially  diamond-shaped hierarchy.\n",
    "        2.  Single inheritance offers simplicity and a clear hierarchy, while multiple inheritance provides greater code reuse and flexibility. It's essential to carefully consider the design and trade-offs to determine which approach best fits the problem at hand.\n",
    "        3. Multiple inheritance can introduce naming conflicts when two or more superclasses have methods or attributes with the same name\n",
    "\n",
    "    Single Inheritance:\n",
    "        Single inheritance refers to the inheritance of properties and behaviors from a single base class. In this approach, a derived class can have only one direct superclass or base class.\n",
    "        \n",
    "        Advantages of Single Inheritance:\n",
    "            1. Single inheritance is straightforward and easy to understand. It provides a clear hierarchical relationship between classes, making the code more readable and maintainable.\n",
    "            2. It helps maintain the integrity and cohesiveness of the codebase.\n",
    "            3. With single inheritance, the complexity of class relationships is minimized since there is only one direct superclass.\n",
    "    \n",
    "    Multiple Inheritance:\n",
    "        Multiple inheritance refers to the inheritance of properties and behaviors from multiple base classes.\n",
    "        Advantages of Multiple Inheritance:\n",
    "            1. A derived class can inherit and combine features from multiple base classes, leveraging functionality from different sources 2. without code duplication.\n",
    "            This can provide greater flexibility and expressive power in designing complex systems.\n",
    "    \n",
    "\"\"\""
   ]
  },
  {
   "cell_type": "code",
   "execution_count": null,
   "metadata": {},
   "outputs": [],
   "source": [
    "\"\"\"\n",
    "Q 3. Explain the terms \"base class\" and \"derived class\" in the context of inheritance.\n",
    "Ans. \n",
    "    Base Class:\n",
    "        The base class encapsulates common attributes, methods, and functionality that can be inherited by one or more derived classes.\n",
    "    Derived Class:\n",
    "        The derived class, also known as the subclass or child class,It extends or specializes the functionality of the base class by adding new features or modifying existing ones.\n",
    "\n",
    "    To establish the inheritance relationship, the derived class is defined by specifying the base class it extends or inherits from. This is typically done using the syntax \"class DerivedClass : BaseClass\" in most object-oriented programming languages.\n",
    "\"\"\""
   ]
  },
  {
   "cell_type": "code",
   "execution_count": null,
   "metadata": {},
   "outputs": [],
   "source": [
    "\"\"\"\n",
    "Q 4. What is the significance of the \"protected\" access modifier in inheritance? How does\n",
    "    it differ from \"private\" and \"public\" modifiers?\n",
    "Ans. \n",
    "    In inheritance, the \"protected\" access modifier plays a significant role in controlling the visibility and accessibility of class members (fields and methods) within a class hierarchy. The \"protected\" access modifier has distinct characteristics and differs from the \"private\" and \"public\" modifiers in the following ways:\n",
    "\n",
    "    \"public\" Access Modifier:\n",
    "        \"public\" members are accessible from anywhere, both within the class and outside of it. They can be accessed by derived classes, other classes, or any other code that has visibility to the class. \"public\" members have the highest level of accessibility.\n",
    "\n",
    "    \"protected\" Access Modifier:\n",
    "        The \"protected\" access modifier provides a level of visibility that is between \"private\" and \"public.\" Members marked as \"protected\" are accessible within the same class, derived classes, and even other classes in the same package or assembly (depending on the programming language).\n",
    "\"\"\""
   ]
  },
  {
   "cell_type": "code",
   "execution_count": null,
   "metadata": {},
   "outputs": [],
   "source": [
    "\"\"\"\n",
    "Q 5. What is the purpose of the \"super\" keyword in inheritance? Provide an example.\n",
    "Ans. In Python, the super keyword is used to refer to the superclass or base class from within a derived class. It allows you to call and   \n",
    "    access the methods and attributes of the base class, \n",
    "    \n",
    "\"\"\""
   ]
  },
  {
   "cell_type": "code",
   "execution_count": 1,
   "metadata": {},
   "outputs": [
    {
     "name": "stdout",
     "output_type": "stream",
     "text": [
      "Make: Tata, Model: xyz, Year: 2023, Fuel Type: petrol\n"
     ]
    }
   ],
   "source": [
    "\"\"\"\n",
    "Q 6. User Create a base class called \"Vehicle\" with attributes like \"make\", \"model\", and \"year\".\n",
    "    Then, create a derived class called \"Car\" that inherits from \"Vehicle\" and adds an\n",
    "    attribute called \"fuel_type\". Implement appropriate methods in both classes.\n",
    "Ans. \n",
    "    \n",
    "\"\"\"\n",
    "class Vehicle:\n",
    "    def __init__(self, make, model, year):\n",
    "        self.make = make\n",
    "        self.model = model\n",
    "        self.year = year\n",
    "\n",
    "    def get_details(self):\n",
    "        return f\"Make: {self.make}, Model: {self.model}, Year: {self.year}\"\n",
    "\n",
    "\n",
    "class Car(Vehicle):\n",
    "    def __init__(self, make, model, year, fuel_type):\n",
    "        super().__init__(make, model, year)\n",
    "        self.fuel_type = fuel_type\n",
    "\n",
    "    def get_details(self):\n",
    "        return f\"{super().get_details()}, Fuel Type: {self.fuel_type}\"\n",
    "\n",
    "\n",
    "car = Car(\"Tata\", \"xyz\", 2023, \"petrol\")\n",
    "print(car.get_details())"
   ]
  },
  {
   "cell_type": "code",
   "execution_count": 4,
   "metadata": {},
   "outputs": [
    {
     "name": "stdout",
     "output_type": "stream",
     "text": [
      "============================Manager=====================================================\n",
      "Manager : Mice, Department: computer op, Salary: 100\n",
      "============================Developer=====================================================\n",
      "Developer: AJ, Programming Language: PYTHON., Salary: 100\n"
     ]
    }
   ],
   "source": [
    "\"\"\"\n",
    "Q 7. Create a base class called \"Employee\" with attributes like \"name\" and \"salary.\"\n",
    "    Derive two classes, \"Manager\" and \"Developer,\" from \"Employee.\" Add an additional\n",
    "    attribute called \"department\" for the \"Manager\" class and \"programming_language\"\n",
    "    for the \"Developer\" class.\n",
    "Ans. \n",
    "    \n",
    "\"\"\"\n",
    "class Employee:\n",
    "    def __init__(self, name, salary):\n",
    "        self.name = name\n",
    "        self.salary = salary\n",
    "\n",
    "\n",
    "class Manager(Employee):\n",
    "    def __init__(self, name, salary, department):\n",
    "        super().__init__(name, salary)\n",
    "        self.department = department\n",
    "\n",
    "\n",
    "class Developer(Employee):\n",
    "    def __init__(self, name, salary, programming_language):\n",
    "        super().__init__(name, salary)\n",
    "        self.programming_language = programming_language\n",
    "\n",
    "\n",
    "manager = Manager(\"Mice\", 100, \"computer op\")\n",
    "developer = Developer(\"AJ\", 100, \"PYTHON.\")\n",
    "print(\"============================Manager=====================================================\")\n",
    "print(f\"Manager : {manager.name}, Department: {manager.department}, Salary: {manager.salary}\")\n",
    "\n",
    "\n",
    "print(\"============================Developer=====================================================\")\n",
    "print(f\"Developer: {developer.name}, Programming Language: {developer.programming_language}, Salary: {developer.salary}\")\n"
   ]
  },
  {
   "cell_type": "code",
   "execution_count": null,
   "metadata": {},
   "outputs": [],
   "source": []
  },
  {
   "cell_type": "code",
   "execution_count": 6,
   "metadata": {},
   "outputs": [
    {
     "name": "stdout",
     "output_type": "stream",
     "text": [
      "============================Rectangle=====================================================\n",
      "Rectangle: Colour: Red, Border Width: 2, Length: 5, Width: 3\n",
      "============================Circle=====================================================\n",
      "Circle: Colour: Blue, Border Width: 1, Radius: 4\n"
     ]
    }
   ],
   "source": [
    "\"\"\"\n",
    "Q 8. Design a base class called \"Shape\" with attributes like \"colour\" and \"border_width.\"\n",
    "    Create derived classes, \"Rectangle\" and \"Circle,\" that inherit from \"Shape\" and add\n",
    "    specific attributes like \"length\" and \"width\" for the \"Rectangle\" class and \"radius\" for\n",
    "    the \"Circle\" class.\n",
    "Ans. \n",
    "    \n",
    "\"\"\"\n",
    "class Shape:\n",
    "    def __init__(self, colour, border_width):\n",
    "        self.colour = colour\n",
    "        self.border_width = border_width\n",
    "\n",
    "\n",
    "class Rectangle(Shape):\n",
    "    def __init__(self, colour, border_width, length, width):\n",
    "        super().__init__(colour, border_width)\n",
    "        self.length = length\n",
    "        self.width = width\n",
    "\n",
    "\n",
    "class Circle(Shape):\n",
    "    def __init__(self, colour, border_width, radius):\n",
    "        super().__init__(colour, border_width)\n",
    "        self.radius = radius\n",
    "\n",
    "rectangle = Rectangle(\"Red\", 2, 5, 3)\n",
    "circle = Circle(\"Blue\", 1, 4)\n",
    "\n",
    "print(\"============================Rectangle=====================================================\")\n",
    "print(f\"Rectangle: Colour: {rectangle.colour}, Border Width: {rectangle.border_width}, Length: {rectangle.length}, Width: {rectangle.width}\")\n",
    "\n",
    "print(\"============================Circle=====================================================\")\n",
    "print(f\"Circle: Colour: {circle.colour}, Border Width: {circle.border_width}, Radius: {circle.radius}\")\n"
   ]
  },
  {
   "cell_type": "code",
   "execution_count": 7,
   "metadata": {},
   "outputs": [
    {
     "name": "stdout",
     "output_type": "stream",
     "text": [
      "=====================================Phone============================================\n",
      "Phone: Brand: One plus, Model: Node 3, Screen Size: 5 inches\n",
      "=====================================Tablet============================================\n",
      "Tablet: Brand: Vivo, Model: S1, Battery Capacity: 14000 mAh\n"
     ]
    }
   ],
   "source": [
    "\"\"\"\n",
    "Q 9. Create a base class called \"Device\" with attributes like \"brand\" and \"model.\" Derive\n",
    "    two classes, \"Phone\" and \"Tablet,\" from \"Device.\" Add specific attributes like\n",
    "    \"screen_size\" for the \"Phone\" class and \"battery_capacity\" for the \"Tablet\" class.\n",
    "    Ans. \n",
    "    \n",
    "\"\"\"\n",
    "class Device:\n",
    "    def __init__(self, brand, model):\n",
    "        self.brand = brand\n",
    "        self.model = model\n",
    "\n",
    "\n",
    "class Phone(Device):\n",
    "    def __init__(self, brand, model, screen_size):\n",
    "        super().__init__(brand, model)\n",
    "        self.screen_size = screen_size\n",
    "\n",
    "\n",
    "class Tablet(Device):\n",
    "    def __init__(self, brand, model, battery_capacity):\n",
    "        super().__init__(brand, model)\n",
    "        self.battery_capacity = battery_capacity\n",
    "\n",
    "\n",
    "phone = Phone(\"One plus\", \"Node 3\", 5)\n",
    "tablet = Tablet(\"Vivo\", \"S1\", 14000)\n",
    "\n",
    "print(\"=====================================Phone============================================\")\n",
    "print(f\"Phone: Brand: {phone.brand}, Model: {phone.model}, Screen Size: {phone.screen_size} inches\")\n",
    "\n",
    "print(\"=====================================Tablet============================================\")\n",
    "print(f\"Tablet: Brand: {tablet.brand}, Model: {tablet.model}, Battery Capacity: {tablet.battery_capacity} mAh\")\n",
    "\n"
   ]
  },
  {
   "cell_type": "code",
   "execution_count": 10,
   "metadata": {},
   "outputs": [
    {
     "name": "stdout",
     "output_type": "stream",
     "text": [
      "Savings Account: Account Number: 969697578, Balance: 5500.0, Interest: 500.0\n",
      "Checking Account: Account Number: 969697578, Balance: 2930\n"
     ]
    }
   ],
   "source": [
    "\"\"\"\n",
    "Q 10. Create a base class called \"BankAccount\" with attributes like \"account_number\" and\n",
    "    \"balance.\" Derive two classes, \"SavingsAccount\" and \"CheckingAccount,\" from\n",
    "    \"BankAccount.\" Add specific methods like \"calculate_interest\" for the\n",
    "    \"SavingsAccount\" class and \"deduct_fees\" for the \"CheckingAccount\" class.\n",
    "Ans. \n",
    "    \n",
    "\"\"\"\n",
    "class BankAccount:\n",
    "    def __init__(self, account_number, balance):\n",
    "        self.account_number = account_number\n",
    "        self.balance = balance\n",
    "\n",
    "\n",
    "class SavingsAccount(BankAccount):\n",
    "    def __init__(self, account_number, balance):\n",
    "        super().__init__(account_number, balance)\n",
    "\n",
    "    def calculate_interest(self, interest_rate):\n",
    "        interest_amount = self.balance * interest_rate\n",
    "        self.balance += interest_amount\n",
    "        return interest_amount\n",
    "\n",
    "\n",
    "class CheckingAccount(BankAccount):\n",
    "    def __init__(self, account_number, balance):\n",
    "        super().__init__(account_number, balance)\n",
    "\n",
    "    def deduct_fees(self, fee_amount):\n",
    "        if self.balance >= fee_amount:\n",
    "            self.balance -= fee_amount\n",
    "\n",
    "savings_account = SavingsAccount(\"969697578\", 5000)\n",
    "interest = savings_account.calculate_interest(0.10)\n",
    "print(f\"Savings Account: Account Number: {savings_account.account_number}, Balance: {savings_account.balance}, Interest: {interest}\")\n",
    "\n",
    "checking_account = CheckingAccount(\"969697578\", 3000)\n",
    "checking_account.deduct_fees(70)\n",
    "print(f\"Checking Account: Account Number: {checking_account.account_number}, Balance: {checking_account.balance}\")\n"
   ]
  },
  {
   "cell_type": "code",
   "execution_count": null,
   "metadata": {},
   "outputs": [],
   "source": []
  }
 ],
 "metadata": {
  "kernelspec": {
   "display_name": "Python 3",
   "language": "python",
   "name": "python3"
  },
  "language_info": {
   "codemirror_mode": {
    "name": "ipython",
    "version": 3
   },
   "file_extension": ".py",
   "mimetype": "text/x-python",
   "name": "python",
   "nbconvert_exporter": "python",
   "pygments_lexer": "ipython3",
   "version": "3.8.5"
  },
  "orig_nbformat": 4
 },
 "nbformat": 4,
 "nbformat_minor": 2
}
